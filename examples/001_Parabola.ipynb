{
 "cells": [
  {
   "cell_type": "code",
   "execution_count": 1,
   "id": "beaa576b",
   "metadata": {},
   "outputs": [],
   "source": [
    "import matplotlib.pyplot as plt\n",
    "import numpy as np\n",
    "from tqdm.auto import tqdm"
   ]
  },
  {
   "cell_type": "code",
   "execution_count": 2,
   "id": "adbaff02",
   "metadata": {},
   "outputs": [],
   "source": [
    "from pypoptim.algorythm import Solution\n",
    "from pypoptim.algorythm.ga import GA"
   ]
  },
  {
   "cell_type": "markdown",
   "id": "01078865",
   "metadata": {},
   "source": [
    "# Simple example"
   ]
  },
  {
   "cell_type": "code",
   "execution_count": 3,
   "id": "3a384b17",
   "metadata": {},
   "outputs": [],
   "source": [
    "def error(x):\n",
    "    return np.sum(x**2)\n",
    "\n",
    "class Sol(Solution):\n",
    "    \n",
    "    def update(self):\n",
    "        self._y = error(self.x)\n",
    "        \n",
    "    def is_valid(self):\n",
    "        return self.is_updated()"
   ]
  },
  {
   "cell_type": "code",
   "execution_count": 4,
   "id": "2ec9e018",
   "metadata": {},
   "outputs": [
    {
     "data": {
      "text/plain": [
       "Solution = {\n",
       "    x    = [2.],\n",
       "    y    = 4.0,\n",
       "    data = {}\n",
       "}"
      ]
     },
     "execution_count": 4,
     "metadata": {},
     "output_type": "execute_result"
    }
   ],
   "source": [
    "sol = Sol([2])\n",
    "sol.update()\n",
    "sol"
   ]
  },
  {
   "cell_type": "code",
   "execution_count": 5,
   "id": "093816df",
   "metadata": {},
   "outputs": [
    {
     "data": {
      "text/plain": [
       "GA:\n",
       "[bounds_lower bounds_upper gammas mask_log_10_scale]\n",
       "[[-4.  2.  1.  0.]\n",
       " [-1.  5.  1.  0.]]\n",
       "mutation_rate: 1.0\n",
       "crossover_rate: 1.0\n",
       "selection_force: 2\n",
       "keys_data_transmit: []"
      ]
     },
     "execution_count": 5,
     "metadata": {},
     "output_type": "execute_result"
    }
   ],
   "source": [
    "bounds = np.array([[-4, 2],\n",
    "                   [-1, 5]])\n",
    "\n",
    "ga_optim = GA(Sol, bounds)\n",
    "ga_optim"
   ]
  },
  {
   "cell_type": "code",
   "execution_count": 6,
   "id": "77a753cc",
   "metadata": {},
   "outputs": [
    {
     "data": {
      "application/vnd.jupyter.widget-view+json": {
       "model_id": "1f353d16524a418da031fe9c4657da91",
       "version_major": 2,
       "version_minor": 0
      },
      "text/plain": [
       "  0%|          | 0/10 [00:00<?, ?it/s]"
      ]
     },
     "metadata": {},
     "output_type": "display_data"
    },
    {
     "data": {
      "image/png": "[encoded data removed]",
      "text/plain": [
       "<Figure size 432x288 with 1 Axes>"
      ]
     },
     "metadata": {
      "needs_background": "light"
     },
     "output_type": "display_data"
    }
   ],
   "source": [
    "n_solutions = 25\n",
    "n_elites = 5\n",
    "n_epochs = 100\n",
    "\n",
    "for _ in tqdm(range(10)):\n",
    "    \n",
    "    population = ga_optim.generate_population(n_solutions)\n",
    "\n",
    "    loss = []\n",
    "\n",
    "    for i in range(n_epochs):\n",
    "        \n",
    "        ga_optim.update_population(population)\n",
    "            \n",
    "        loss.append(min(population).y)\n",
    "            \n",
    "        elites  = ga_optim.get_elites(population, n_elites)\n",
    "        mutants = ga_optim.get_mutants(population, n_solutions - n_elites)\n",
    "        \n",
    "        population = elites + mutants\n",
    "\n",
    "    plt.semilogy(loss)"
   ]
  },
  {
   "cell_type": "code",
   "execution_count": 7,
   "id": "e5242e1c",
   "metadata": {},
   "outputs": [],
   "source": [
    "ga_optim.update_population(population)\n",
    "X = np.array([sol.x for sol in sorted(population)])\n",
    "Y = np.array([sol.y for sol in sorted(population)])"
   ]
  },
  {
   "cell_type": "code",
   "execution_count": 8,
   "id": "be88e529",
   "metadata": {},
   "outputs": [
    {
     "data": {
      "text/plain": [
       "array([-0.0009982 ,  0.00090504])"
      ]
     },
     "execution_count": 8,
     "metadata": {},
     "output_type": "execute_result"
    }
   ],
   "source": [
    "X[0]"
   ]
  },
  {
   "cell_type": "code",
   "execution_count": 9,
   "id": "b20c0dd8",
   "metadata": {},
   "outputs": [
    {
     "data": {
      "text/plain": [
       "[<matplotlib.lines.Line2D at 0x7f58539f7880>]"
      ]
     },
     "execution_count": 9,
     "metadata": {},
     "output_type": "execute_result"
    },
    {
     "data": {
      "image/png": "[encoded data removed]",
      "text/plain": [
       "<Figure size 432x288 with 1 Axes>"
      ]
     },
     "metadata": {
      "needs_background": "light"
     },
     "output_type": "display_data"
    }
   ],
   "source": [
    "plt.scatter(X[:, 0], X[:, 1], c=Y)\n",
    "plt.plot(X[0, 0], X[0, 1], 'or')"
   ]
  },
  {
   "cell_type": "markdown",
   "id": "9a4fb04c",
   "metadata": {},
   "source": [
    "# All at once"
   ]
  },
  {
   "cell_type": "code",
   "execution_count": 10,
   "id": "aa9b97b1",
   "metadata": {},
   "outputs": [
    {
     "data": {
      "text/plain": [
       "[Solution = {\n",
       "     x    = [0.00932324 0.1116786 ],\n",
       "     y    = 0.012559033117524735,\n",
       "     data = {}\n",
       " },\n",
       " Solution = {\n",
       "     x    = [-0.29952461 -0.46554983],\n",
       "     y    = None,\n",
       "     data = {}\n",
       " },\n",
       " Solution = {\n",
       "     x    = [-1.93447625  1.68548758],\n",
       "     y    = None,\n",
       "     data = {}\n",
       " },\n",
       " Solution = {\n",
       "     x    = [ 0.81102994 -0.95661243],\n",
       "     y    = None,\n",
       "     data = {}\n",
       " },\n",
       " Solution = {\n",
       "     x    = [-1.08928945  0.34363515],\n",
       "     y    = None,\n",
       "     data = {}\n",
       " },\n",
       " Solution = {\n",
       "     x    = [ 0.10430527 -0.07790979],\n",
       "     y    = None,\n",
       "     data = {}\n",
       " },\n",
       " Solution = {\n",
       "     x    = [-0.42128807  0.1995319 ],\n",
       "     y    = None,\n",
       "     data = {}\n",
       " },\n",
       " Solution = {\n",
       "     x    = [1.63122389 1.17258639],\n",
       "     y    = None,\n",
       "     data = {}\n",
       " },\n",
       " Solution = {\n",
       "     x    = [-0.31409487  2.11914572],\n",
       "     y    = None,\n",
       "     data = {}\n",
       " },\n",
       " Solution = {\n",
       "     x    = [-1.21372504  1.79123752],\n",
       "     y    = None,\n",
       "     data = {}\n",
       " }]"
      ]
     },
     "execution_count": 10,
     "metadata": {},
     "output_type": "execute_result"
    }
   ],
   "source": [
    "n_solutions = 10\n",
    "n_elites = 1\n",
    "n_epochs = 10\n",
    "\n",
    "population = ga_optim.run(n_solutions, n_epochs, n_elites)\n",
    "population"
   ]
  },
  {
   "cell_type": "code",
   "execution_count": null,
   "id": "e3a034fd",
   "metadata": {},
   "outputs": [],
   "source": []
  }
 ],
 "metadata": {
  "kernelspec": {
   "display_name": "pypoptim",
   "language": "python",
   "name": "pypoptim"
  },
  "language_info": {
   "codemirror_mode": {
    "name": "ipython",
    "version": 3
   },
   "file_extension": ".py",
   "mimetype": "text/x-python",
   "name": "python",
   "nbconvert_exporter": "python",
   "pygments_lexer": "ipython3",
   "version": "3.8.10"
  }
 },
 "nbformat": 4,
 "nbformat_minor": 5
}
